{
 "cells": [
  {
   "cell_type": "code",
   "execution_count": null,
   "metadata": {},
   "outputs": [],
   "source": [
    "#display the board  \n",
    "from IPython.display import HTML, display\n",
    "\n",
    "import numpy as np\n",
    "    \n",
    "def display_table(board):\n",
    "    \n",
    "    data = np.array(board)\n",
    "    \n",
    "    #replace 'X' with the default board value\n",
    "    data[data == 'X'] = ' '\n",
    "    \n",
    "    #replace 'A' with the attackable cell value\n",
    "    data[data == 'A'] = '╳'\n",
    "    \n",
    "    #replace 'K' with knight position\n",
    "    data[data == 'K'] = '♘'\n",
    "    data=data.tolist()\n",
    "\n",
    "    html = \"<table>\"\n",
    "    for row in data:\n",
    "        html += \"<tr>\"\n",
    "        for field in row:\n",
    "            html += \"<td><h4>%s</h4><td>\"%(field)\n",
    "        html += \"</tr>\"\n",
    "    html += \"</table>\"\n",
    "    display(HTML(html))    "
   ]
  }
 ],
 "metadata": {
  "kernelspec": {
   "display_name": "Python 3",
   "language": "python",
   "name": "python3"
  },
  "language_info": {
   "codemirror_mode": {
    "name": "ipython",
    "version": 3
   },
   "file_extension": ".py",
   "mimetype": "text/x-python",
   "name": "python",
   "nbconvert_exporter": "python",
   "pygments_lexer": "ipython3",
   "version": "3.8.5"
  }
 },
 "nbformat": 4,
 "nbformat_minor": 4
}
